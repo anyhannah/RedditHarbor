{
 "cells": [
  {
   "cell_type": "code",
   "execution_count": 2,
   "metadata": {},
   "outputs": [
    {
     "name": "stderr",
     "output_type": "stream",
     "text": [
      "Version 7.7.0 of praw is outdated. Version 7.7.1 was released Tuesday July 11, 2023.\n"
     ]
    },
    {
     "data": {
      "text/html": [
       "<pre style=\"white-space:pre;overflow-x:auto;line-height:normal;font-family:Menlo,'DejaVu Sans Mono',consolas,'Courier New',monospace\"><span style=\"color: #7fbfbf; text-decoration-color: #7fbfbf\">[12:03:18] </span><span style=\"color: #808000; text-decoration-color: #808000; font-weight: bold\">Using existing Reddit credentials.</span>                                                          <a href=\"file://c:\\Users\\nicks\\Desktop\\RedditHarbor\\login.py\" target=\"_blank\"><span style=\"color: #7f7f7f; text-decoration-color: #7f7f7f\">login.py</span></a><span style=\"color: #7f7f7f; text-decoration-color: #7f7f7f\">:</span><a href=\"file://c:\\Users\\nicks\\Desktop\\RedditHarbor\\login.py#131\" target=\"_blank\"><span style=\"color: #7f7f7f; text-decoration-color: #7f7f7f\">131</span></a>\n",
       "</pre>\n"
      ],
      "text/plain": [
       "\u001b[2;36m[12:03:18]\u001b[0m\u001b[2;36m \u001b[0m\u001b[1;33mUsing existing Reddit credentials.\u001b[0m                                                          \u001b]8;id=217813;file://c:\\Users\\nicks\\Desktop\\RedditHarbor\\login.py\u001b\\\u001b[2mlogin.py\u001b[0m\u001b]8;;\u001b\\\u001b[2m:\u001b[0m\u001b]8;id=742686;file://c:\\Users\\nicks\\Desktop\\RedditHarbor\\login.py#131\u001b\\\u001b[2m131\u001b[0m\u001b]8;;\u001b\\\n"
      ]
     },
     "metadata": {},
     "output_type": "display_data"
    },
    {
     "data": {
      "text/html": [
       "<pre style=\"white-space:pre;overflow-x:auto;line-height:normal;font-family:Menlo,'DejaVu Sans Mono',consolas,'Courier New',monospace\"><span style=\"color: #7fbfbf; text-decoration-color: #7fbfbf\">           </span><span style=\"color: #008000; text-decoration-color: #008000; font-weight: bold\">Connected to Reddit successfully.</span>                                                           <a href=\"file://c:\\Users\\nicks\\Desktop\\RedditHarbor\\login.py\" target=\"_blank\"><span style=\"color: #7f7f7f; text-decoration-color: #7f7f7f\">login.py</span></a><span style=\"color: #7f7f7f; text-decoration-color: #7f7f7f\">:</span><a href=\"file://c:\\Users\\nicks\\Desktop\\RedditHarbor\\login.py#132\" target=\"_blank\"><span style=\"color: #7f7f7f; text-decoration-color: #7f7f7f\">132</span></a>\n",
       "</pre>\n"
      ],
      "text/plain": [
       "\u001b[2;36m          \u001b[0m\u001b[2;36m \u001b[0m\u001b[1;32mConnected to Reddit successfully.\u001b[0m                                                           \u001b]8;id=683672;file://c:\\Users\\nicks\\Desktop\\RedditHarbor\\login.py\u001b\\\u001b[2mlogin.py\u001b[0m\u001b]8;;\u001b\\\u001b[2m:\u001b[0m\u001b]8;id=516346;file://c:\\Users\\nicks\\Desktop\\RedditHarbor\\login.py#132\u001b\\\u001b[2m132\u001b[0m\u001b]8;;\u001b\\\n"
      ]
     },
     "metadata": {},
     "output_type": "display_data"
    }
   ],
   "source": [
    "import login \n",
    "\n",
    "reddit_client = login.reddit()"
   ]
  },
  {
   "cell_type": "code",
   "execution_count": 9,
   "metadata": {},
   "outputs": [],
   "source": [
    "submission = reddit_client.submission(url=\"https://www.reddit.com/r/reddit/comments/sphocx/test_post_please_ignore/\")"
   ]
  },
  {
   "cell_type": "code",
   "execution_count": 17,
   "metadata": {},
   "outputs": [],
   "source": [
    "submission.comments.replace_more(limit=1)\n",
    "comments = submission.comments.list()"
   ]
  },
  {
   "cell_type": "code",
   "execution_count": 12,
   "metadata": {},
   "outputs": [
    {
     "data": {
      "text/plain": [
       "list"
      ]
     },
     "execution_count": 12,
     "metadata": {},
     "output_type": "execute_result"
    }
   ],
   "source": [
    "type(comments)"
   ]
  },
  {
   "cell_type": "code",
   "execution_count": 18,
   "metadata": {},
   "outputs": [
    {
     "name": "stdout",
     "output_type": "stream",
     "text": [
      "<class 'praw.models.reddit.comment.Comment'>\n"
     ]
    }
   ],
   "source": [
    "print(type(comments[0]))"
   ]
  },
  {
   "cell_type": "code",
   "execution_count": 3,
   "metadata": {},
   "outputs": [],
   "source": [
    "redditor = reddit_client.redditor(\"WorldNewsMods\")"
   ]
  },
  {
   "cell_type": "code",
   "execution_count": 4,
   "metadata": {},
   "outputs": [
    {
     "name": "stdout",
     "output_type": "stream",
     "text": [
      "/r/WorldNews Live Thread: Russian Invasion of Ukraine Day 659, Part 1 (Thread #805)\n",
      "/r/WorldNews Live Thread: Russian Invasion of Ukraine Day 658, Part 1 (Thread #804)\n",
      "/r/WorldNews Live Thread: Russian Invasion of Ukraine Day 657, Part 1 (Thread #803)\n",
      "/r/WorldNews Live Thread: Russian Invasion of Ukraine Day 656, Part 1 (Thread #802)\n",
      "/r/WorldNews Live Thread: Russian Invasion of Ukraine Day 655, Part 1 (Thread #801)\n"
     ]
    }
   ],
   "source": [
    "submissions = redditor.submissions\n",
    "\n",
    "try:     \n",
    "    for submission in getattr(submissions, \"new\")(limit=5): \n",
    "        print(submission.title)\n",
    "except Exception as e: \n",
    "    print(e)"
   ]
  },
  {
   "cell_type": "code",
   "execution_count": 21,
   "metadata": {},
   "outputs": [
    {
     "ename": "AttributeError",
     "evalue": "'Subreddit' object has no attribute 'submissions'",
     "output_type": "error",
     "traceback": [
      "\u001b[1;31m---------------------------------------------------------------------------\u001b[0m",
      "\u001b[1;31mAttributeError\u001b[0m                            Traceback (most recent call last)",
      "Input \u001b[1;32mIn [21]\u001b[0m, in \u001b[0;36m<cell line: 1>\u001b[1;34m()\u001b[0m\n\u001b[1;32m----> 1\u001b[0m submissions \u001b[38;5;241m=\u001b[39m \u001b[43mreddit_client\u001b[49m\u001b[38;5;241;43m.\u001b[39;49m\u001b[43msubreddit\u001b[49m\u001b[43m(\u001b[49m\u001b[38;5;124;43m\"\u001b[39;49m\u001b[38;5;124;43mAskReddit\u001b[39;49m\u001b[38;5;124;43m\"\u001b[39;49m\u001b[43m)\u001b[49m\u001b[38;5;241;43m.\u001b[39;49m\u001b[43msubmissions\u001b[49m\n",
      "File \u001b[1;32mc:\\Users\\nicks\\Anaconda3\\lib\\site-packages\\praw\\models\\reddit\\base.py:35\u001b[0m, in \u001b[0;36mRedditBase.__getattr__\u001b[1;34m(self, attribute)\u001b[0m\n\u001b[0;32m     33\u001b[0m \u001b[38;5;28;01mif\u001b[39;00m \u001b[38;5;129;01mnot\u001b[39;00m attribute\u001b[38;5;241m.\u001b[39mstartswith(\u001b[38;5;124m\"\u001b[39m\u001b[38;5;124m_\u001b[39m\u001b[38;5;124m\"\u001b[39m) \u001b[38;5;129;01mand\u001b[39;00m \u001b[38;5;129;01mnot\u001b[39;00m \u001b[38;5;28mself\u001b[39m\u001b[38;5;241m.\u001b[39m_fetched:\n\u001b[0;32m     34\u001b[0m     \u001b[38;5;28mself\u001b[39m\u001b[38;5;241m.\u001b[39m_fetch()\n\u001b[1;32m---> 35\u001b[0m     \u001b[38;5;28;01mreturn\u001b[39;00m \u001b[38;5;28;43mgetattr\u001b[39;49m\u001b[43m(\u001b[49m\u001b[38;5;28;43mself\u001b[39;49m\u001b[43m,\u001b[49m\u001b[43m \u001b[49m\u001b[43mattribute\u001b[49m\u001b[43m)\u001b[49m\n\u001b[0;32m     36\u001b[0m \u001b[38;5;28;01mraise\u001b[39;00m \u001b[38;5;167;01mAttributeError\u001b[39;00m(\n\u001b[0;32m     37\u001b[0m     \u001b[38;5;124mf\u001b[39m\u001b[38;5;124m\"\u001b[39m\u001b[38;5;132;01m{\u001b[39;00m\u001b[38;5;28mself\u001b[39m\u001b[38;5;241m.\u001b[39m\u001b[38;5;18m__class__\u001b[39m\u001b[38;5;241m.\u001b[39m\u001b[38;5;18m__name__\u001b[39m\u001b[38;5;132;01m!r}\u001b[39;00m\u001b[38;5;124m object has no attribute \u001b[39m\u001b[38;5;132;01m{\u001b[39;00mattribute\u001b[38;5;132;01m!r}\u001b[39;00m\u001b[38;5;124m\"\u001b[39m\n\u001b[0;32m     38\u001b[0m )\n",
      "File \u001b[1;32mc:\\Users\\nicks\\Anaconda3\\lib\\site-packages\\praw\\models\\reddit\\base.py:36\u001b[0m, in \u001b[0;36mRedditBase.__getattr__\u001b[1;34m(self, attribute)\u001b[0m\n\u001b[0;32m     34\u001b[0m     \u001b[38;5;28mself\u001b[39m\u001b[38;5;241m.\u001b[39m_fetch()\n\u001b[0;32m     35\u001b[0m     \u001b[38;5;28;01mreturn\u001b[39;00m \u001b[38;5;28mgetattr\u001b[39m(\u001b[38;5;28mself\u001b[39m, attribute)\n\u001b[1;32m---> 36\u001b[0m \u001b[38;5;28;01mraise\u001b[39;00m \u001b[38;5;167;01mAttributeError\u001b[39;00m(\n\u001b[0;32m     37\u001b[0m     \u001b[38;5;124mf\u001b[39m\u001b[38;5;124m\"\u001b[39m\u001b[38;5;132;01m{\u001b[39;00m\u001b[38;5;28mself\u001b[39m\u001b[38;5;241m.\u001b[39m\u001b[38;5;18m__class__\u001b[39m\u001b[38;5;241m.\u001b[39m\u001b[38;5;18m__name__\u001b[39m\u001b[38;5;132;01m!r}\u001b[39;00m\u001b[38;5;124m object has no attribute \u001b[39m\u001b[38;5;132;01m{\u001b[39;00mattribute\u001b[38;5;132;01m!r}\u001b[39;00m\u001b[38;5;124m\"\u001b[39m\n\u001b[0;32m     38\u001b[0m )\n",
      "\u001b[1;31mAttributeError\u001b[0m: 'Subreddit' object has no attribute 'submissions'"
     ]
    }
   ],
   "source": [
    "submissions = reddit_client.subreddit(\"AskReddit\")"
   ]
  },
  {
   "cell_type": "code",
   "execution_count": 22,
   "metadata": {},
   "outputs": [
    {
     "name": "stdout",
     "output_type": "stream",
     "text": [
      "<class 'praw.models.reddit.submission.Submission'>\n",
      "<class 'praw.models.reddit.submission.Submission'>\n",
      "<class 'praw.models.reddit.submission.Submission'>\n",
      "<class 'praw.models.reddit.submission.Submission'>\n",
      "<class 'praw.models.reddit.submission.Submission'>\n",
      "<class 'praw.models.reddit.submission.Submission'>\n",
      "<class 'praw.models.reddit.submission.Submission'>\n",
      "<class 'praw.models.reddit.submission.Submission'>\n",
      "<class 'praw.models.reddit.submission.Submission'>\n",
      "<class 'praw.models.reddit.submission.Submission'>\n"
     ]
    }
   ],
   "source": [
    "for submission in getattr(submissions, \"new\")(limit=10): \n",
    "    print(type(submission))"
   ]
  },
  {
   "cell_type": "code",
   "execution_count": 27,
   "metadata": {},
   "outputs": [
    {
     "name": "stdout",
     "output_type": "stream",
     "text": [
      "worldnews\n",
      "worldnews\n",
      "worldnews\n",
      "worldnews\n",
      "worldnews\n",
      "worldnews\n",
      "worldnews\n",
      "worldnews\n",
      "worldnews\n",
      "worldnews\n"
     ]
    }
   ],
   "source": [
    "comments = redditor.comments\n",
    "# type(comments)\n",
    "for comment in getattr(comments, \"new\")(limit=10): \n",
    "    print(str(comment.subreddit))"
   ]
  },
  {
   "cell_type": "code",
   "execution_count": 22,
   "metadata": {},
   "outputs": [
    {
     "name": "stdout",
     "output_type": "stream",
     "text": [
      "received 404 HTTP response\n"
     ]
    }
   ],
   "source": [
    "submissions = redditor.submissions\n",
    "\n",
    "try:     \n",
    "    for submission in submissions.top(limit=5, time_filter=\"all\"): \n",
    "        print(submission.title)\n",
    "except Exception as e: \n",
    "    print(e)"
   ]
  },
  {
   "cell_type": "code",
   "execution_count": 11,
   "metadata": {},
   "outputs": [],
   "source": [
    "redditor_2 = reddit_client.redditor(\"xomaleo\")"
   ]
  },
  {
   "cell_type": "code",
   "execution_count": 12,
   "metadata": {},
   "outputs": [
    {
     "data": {
      "text/plain": [
       "Redditor(name='xomaleo')"
      ]
     },
     "execution_count": 12,
     "metadata": {},
     "output_type": "execute_result"
    }
   ],
   "source": [
    "redditor_2"
   ]
  },
  {
   "cell_type": "code",
   "execution_count": 26,
   "metadata": {},
   "outputs": [
    {
     "name": "stdout",
     "output_type": "stream",
     "text": [
      "received 403 HTTP response\n"
     ]
    }
   ],
   "source": [
    "submissions = redditor_2.submissions\n",
    "\n",
    "try:     \n",
    "    for submission in getattr(submissions, \"new\")(limit=5): \n",
    "        print(submission.selftext)\n",
    "except Exception as e: \n",
    "    print(e)"
   ]
  },
  {
   "cell_type": "code",
   "execution_count": null,
   "metadata": {},
   "outputs": [],
   "source": []
  }
 ],
 "metadata": {
  "kernelspec": {
   "display_name": "base",
   "language": "python",
   "name": "python3"
  },
  "language_info": {
   "codemirror_mode": {
    "name": "ipython",
    "version": 3
   },
   "file_extension": ".py",
   "mimetype": "text/x-python",
   "name": "python",
   "nbconvert_exporter": "python",
   "pygments_lexer": "ipython3",
   "version": "3.9.12"
  }
 },
 "nbformat": 4,
 "nbformat_minor": 2
}
